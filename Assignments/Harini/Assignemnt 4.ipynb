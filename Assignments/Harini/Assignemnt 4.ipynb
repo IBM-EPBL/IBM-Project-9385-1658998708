{
  "metadata": {
    "kernelspec": {
      "display_name": "Python 3",
      "language": "python",
      "name": "python3"
    },
    "language_info": {
      "name": "python",
      "version": "3.6.4",
      "mimetype": "text/x-python",
      "codemirror_mode": {
        "name": "ipython",
        "version": 3
      },
      "pygments_lexer": "ipython3",
      "nbconvert_exporter": "python",
      "file_extension": ".py"
    },
    "colab": {
      "provenance": [],
      "collapsed_sections": []
    }
  },
  "nbformat_minor": 0,
  "nbformat": 4,
  "cells": [
    {
      "cell_type": "markdown",
      "source": [
        "# Import the necessary libraries"
      ],
      "metadata": {
        "_cell_guid": "79c7e3d0-c299-4dcb-8224-4455121ee9b0",
        "_uuid": "d629ff2d2480ee46fbb7e2d37f6b5fab8052498a",
        "id": "5l4zTkbC8GF0"
      }
    },
    {
      "cell_type": "code",
      "source": [
        "import pandas as pd\n",
        "import numpy as np\n",
        "import matplotlib.pyplot as plt\n",
        "import seaborn as sns\n",
        "from sklearn.model_selection import train_test_split\n",
        "from sklearn.preprocessing import LabelEncoder\n",
        "from keras.models import Model\n",
        "from keras.layers import LSTM, Activation, Dense, Dropout, Input, Embedding\n",
        "from keras.optimizers import RMSprop\n",
        "from keras.preprocessing.text import Tokenizer\n",
        "from keras.preprocessing import sequence\n",
        "from keras.utils import to_categorical\n",
        "from keras.callbacks import EarlyStopping\n",
        "%matplotlib inline"
      ],
      "metadata": {
        "_uuid": "d6fb32fd69316596e236eab5fb8cf77c848508c3",
        "execution": {
          "iopub.status.busy": "2022-11-02T10:41:07.370178Z",
          "iopub.execute_input": "2022-11-02T10:41:07.370594Z",
          "iopub.status.idle": "2022-11-02T10:41:11.118689Z",
          "shell.execute_reply.started": "2022-11-02T10:41:07.370495Z",
          "shell.execute_reply": "2022-11-02T10:41:11.117576Z"
        },
        "trusted": true,
        "id": "tJQZ39E_8GF3"
      },
      "execution_count": null,
      "outputs": []
    },
    {
      "cell_type": "markdown",
      "source": [
        "### Load the data into Pandas dataframe"
      ],
      "metadata": {
        "_uuid": "f674695f1742479cefdeec0e81ab469f7b6ec90f",
        "id": "jdLna94H8GF4"
      }
    },
    {
      "cell_type": "code",
      "source": [
        "df = pd.read_csv('../input/spam.csv',delimiter=',',encoding='latin-1')\n",
        "df.head()"
      ],
      "metadata": {
        "_uuid": "aca2f1d9da3f35d104763166fe4d25448410d8f2",
        "execution": {
          "iopub.status.busy": "2022-11-02T10:41:11.120058Z",
          "iopub.execute_input": "2022-11-02T10:41:11.120358Z",
          "iopub.status.idle": "2022-11-02T10:41:11.180439Z",
          "shell.execute_reply.started": "2022-11-02T10:41:11.120305Z",
          "shell.execute_reply": "2022-11-02T10:41:11.179552Z"
        },
        "trusted": true,
        "id": "eWsDoYsi8GF5",
        "outputId": "4ee39d18-a34f-4726-b151-9594efc4b673"
      },
      "execution_count": null,
      "outputs": [
        {
          "execution_count": 2,
          "output_type": "execute_result",
          "data": {
            "text/plain": "     v1                                                 v2 Unnamed: 2  \\\n0   ham  Go until jurong point, crazy.. Available only ...        NaN   \n1   ham                      Ok lar... Joking wif u oni...        NaN   \n2  spam  Free entry in 2 a wkly comp to win FA Cup fina...        NaN   \n3   ham  U dun say so early hor... U c already then say...        NaN   \n4   ham  Nah I don't think he goes to usf, he lives aro...        NaN   \n\n  Unnamed: 3 Unnamed: 4  \n0        NaN        NaN  \n1        NaN        NaN  \n2        NaN        NaN  \n3        NaN        NaN  \n4        NaN        NaN  ",
            "text/html": "<div>\n<style>\n    .dataframe thead tr:only-child th {\n        text-align: right;\n    }\n\n    .dataframe thead th {\n        text-align: left;\n    }\n\n    .dataframe tbody tr th {\n        vertical-align: top;\n    }\n</style>\n<table border=\"1\" class=\"dataframe\">\n  <thead>\n    <tr style=\"text-align: right;\">\n      <th></th>\n      <th>v1</th>\n      <th>v2</th>\n      <th>Unnamed: 2</th>\n      <th>Unnamed: 3</th>\n      <th>Unnamed: 4</th>\n    </tr>\n  </thead>\n  <tbody>\n    <tr>\n      <th>0</th>\n      <td>ham</td>\n      <td>Go until jurong point, crazy.. Available only ...</td>\n      <td>NaN</td>\n      <td>NaN</td>\n      <td>NaN</td>\n    </tr>\n    <tr>\n      <th>1</th>\n      <td>ham</td>\n      <td>Ok lar... Joking wif u oni...</td>\n      <td>NaN</td>\n      <td>NaN</td>\n      <td>NaN</td>\n    </tr>\n    <tr>\n      <th>2</th>\n      <td>spam</td>\n      <td>Free entry in 2 a wkly comp to win FA Cup fina...</td>\n      <td>NaN</td>\n      <td>NaN</td>\n      <td>NaN</td>\n    </tr>\n    <tr>\n      <th>3</th>\n      <td>ham</td>\n      <td>U dun say so early hor... U c already then say...</td>\n      <td>NaN</td>\n      <td>NaN</td>\n      <td>NaN</td>\n    </tr>\n    <tr>\n      <th>4</th>\n      <td>ham</td>\n      <td>Nah I don't think he goes to usf, he lives aro...</td>\n      <td>NaN</td>\n      <td>NaN</td>\n      <td>NaN</td>\n    </tr>\n  </tbody>\n</table>\n</div>"
          },
          "metadata": {}
        }
      ]
    },
    {
      "cell_type": "code",
      "source": [
        "df.drop(['Unnamed: 2', 'Unnamed: 3', 'Unnamed: 4'],axis=1,inplace=True)\n",
        "df.info()"
      ],
      "metadata": {
        "scrolled": true,
        "_uuid": "95a8b5d6f19cf42d4f55c6d2842faf1d0d55c1d0",
        "execution": {
          "iopub.status.busy": "2022-11-02T10:41:11.181859Z",
          "iopub.execute_input": "2022-11-02T10:41:11.182129Z",
          "iopub.status.idle": "2022-11-02T10:41:11.199684Z",
          "shell.execute_reply.started": "2022-11-02T10:41:11.182090Z",
          "shell.execute_reply": "2022-11-02T10:41:11.198377Z"
        },
        "trusted": true,
        "id": "D-nX7xdm8GF5",
        "outputId": "8aff4be9-35e5-43ba-b18c-552e2eadecd4"
      },
      "execution_count": null,
      "outputs": [
        {
          "name": "stdout",
          "text": "<class 'pandas.core.frame.DataFrame'>\nRangeIndex: 5572 entries, 0 to 5571\nData columns (total 2 columns):\nv1    5572 non-null object\nv2    5572 non-null object\ndtypes: object(2)\nmemory usage: 87.1+ KB\n",
          "output_type": "stream"
        }
      ]
    },
    {
      "cell_type": "code",
      "source": [
        "sns.countplot(df.v1)\n",
        "plt.xlabel('Label')\n",
        "plt.title('Number of ham and spam messages')"
      ],
      "metadata": {
        "_uuid": "a12002f521dd8eaeb0f69a932cbf23815ffd09d7",
        "execution": {
          "iopub.status.busy": "2022-11-02T10:41:11.201797Z",
          "iopub.execute_input": "2022-11-02T10:41:11.202231Z",
          "iopub.status.idle": "2022-11-02T10:41:11.473083Z",
          "shell.execute_reply.started": "2022-11-02T10:41:11.202159Z",
          "shell.execute_reply": "2022-11-02T10:41:11.471876Z"
        },
        "trusted": true,
        "id": "b3SK9f2l8GF6",
        "outputId": "5b1d9bfb-f350-45f0-9cdf-745d47f17893"
      },
      "execution_count": null,
      "outputs": [
        {
          "execution_count": 4,
          "output_type": "execute_result",
          "data": {
            "text/plain": "Text(0.5,1,'Number of ham and spam messages')"
          },
          "metadata": {}
        },
        {
          "output_type": "display_data",
          "data": {
            "text/plain": "<matplotlib.figure.Figure at 0x7fbf5206fe48>",
            "image/png": "[encoded data removed]"
          },
          "metadata": {}
        }
      ]
    },
    {
      "cell_type": "code",
      "source": [
        "X = df.v2\n",
        "Y = df.v1\n",
        "le = LabelEncoder()\n",
        "Y = le.fit_transform(Y)\n",
        "Y = Y.reshape(-1,1)"
      ],
      "metadata": {
        "_uuid": "a1a345c1683e2fcc7173ecae867a5da87f2dde24",
        "execution": {
          "iopub.status.busy": "2022-11-02T10:41:11.474955Z",
          "iopub.execute_input": "2022-11-02T10:41:11.475371Z",
          "iopub.status.idle": "2022-11-02T10:41:11.485152Z",
          "shell.execute_reply.started": "2022-11-02T10:41:11.475292Z",
          "shell.execute_reply": "2022-11-02T10:41:11.484137Z"
        },
        "trusted": true,
        "id": "G1I133J28GF7"
      },
      "execution_count": null,
      "outputs": []
    },
    {
      "cell_type": "markdown",
      "source": [
        "Split into training and test data."
      ],
      "metadata": {
        "_uuid": "150e244a39b814d8a41bbe0e419bc5f28e457dd6",
        "id": "82QTrC718GF7"
      }
    },
    {
      "cell_type": "code",
      "source": [
        "X_train,X_test,Y_train,Y_test = train_test_split(X,Y,test_size=0.15)"
      ],
      "metadata": {
        "scrolled": true,
        "_uuid": "aa3386af09469682c66cc53a1830a4e42f0e70b6",
        "execution": {
          "iopub.status.busy": "2022-11-02T10:41:11.486660Z",
          "iopub.execute_input": "2022-11-02T10:41:11.486954Z",
          "iopub.status.idle": "2022-11-02T10:41:11.500770Z",
          "shell.execute_reply.started": "2022-11-02T10:41:11.486907Z",
          "shell.execute_reply": "2022-11-02T10:41:11.499667Z"
        },
        "trusted": true,
        "id": "9Dg16N_E8GF7"
      },
      "execution_count": null,
      "outputs": []
    },
    {
      "cell_type": "code",
      "source": [
        "max_words = 1000\n",
        "max_len = 150\n",
        "tok = Tokenizer(num_words=max_words)\n",
        "tok.fit_on_texts(X_train)\n",
        "sequences = tok.texts_to_sequences(X_train)\n",
        "sequences_matrix = sequence.pad_sequences(sequences,maxlen=max_len)"
      ],
      "metadata": {
        "_uuid": "bdca14f2b8cd7bd7cb5ee66fd40ea522217c03c6",
        "execution": {
          "iopub.status.busy": "2022-11-02T10:41:11.502241Z",
          "iopub.execute_input": "2022-11-02T10:41:11.502563Z",
          "iopub.status.idle": "2022-11-02T10:41:11.751049Z",
          "shell.execute_reply.started": "2022-11-02T10:41:11.502468Z",
          "shell.execute_reply": "2022-11-02T10:41:11.749946Z"
        },
        "trusted": true,
        "id": "UaIlRQyH8GF8"
      },
      "execution_count": null,
      "outputs": []
    },
    {
      "cell_type": "markdown",
      "source": [
        "### RNN\n"
      ],
      "metadata": {
        "_uuid": "ad8706caa7a447fb49b44919fd109129e4082a93",
        "id": "Dq8N3abe8GF8"
      }
    },
    {
      "cell_type": "code",
      "source": [
        "def RNN():\n",
        "    inputs = Input(name='inputs',shape=[max_len])\n",
        "    layer = Embedding(max_words,50,input_length=max_len)(inputs)\n",
        "    layer = LSTM(64)(layer)\n",
        "    layer = Dense(256,name='FC1')(layer)\n",
        "    layer = Activation('relu')(layer)\n",
        "    layer = Dropout(0.5)(layer)\n",
        "    layer = Dense(1,name='out_layer')(layer)\n",
        "    layer = Activation('sigmoid')(layer)\n",
        "    model = Model(inputs=inputs,outputs=layer)\n",
        "    return model"
      ],
      "metadata": {
        "_uuid": "78fff25b8be1de575bff071a2027f3dd2b11b911",
        "execution": {
          "iopub.status.busy": "2022-11-02T10:41:11.752647Z",
          "iopub.execute_input": "2022-11-02T10:41:11.752965Z",
          "iopub.status.idle": "2022-11-02T10:41:11.767027Z",
          "shell.execute_reply.started": "2022-11-02T10:41:11.752912Z",
          "shell.execute_reply": "2022-11-02T10:41:11.765935Z"
        },
        "trusted": true,
        "id": "646qj8BC8GF8"
      },
      "execution_count": null,
      "outputs": []
    },
    {
      "cell_type": "markdown",
      "source": [
        "Call the function and compile the model."
      ],
      "metadata": {
        "_uuid": "9d7c489e32bff6d12b8c08c07a91e9ba5d302e0e",
        "id": "loDlxcYM8GF8"
      }
    },
    {
      "cell_type": "code",
      "source": [
        "model = RNN()\n",
        "model.summary()\n",
        "model.compile(loss='binary_crossentropy',optimizer=RMSprop(),metrics=['accuracy'])"
      ],
      "metadata": {
        "_uuid": "a0ede32d4127e8b4990fd74fe97fadef9e565d17",
        "execution": {
          "iopub.status.busy": "2022-11-02T10:41:11.768811Z",
          "iopub.execute_input": "2022-11-02T10:41:11.769183Z",
          "iopub.status.idle": "2022-11-02T10:41:12.093091Z",
          "shell.execute_reply.started": "2022-11-02T10:41:11.769116Z",
          "shell.execute_reply": "2022-11-02T10:41:12.091259Z"
        },
        "trusted": true,
        "id": "jNvvMvYp8GF9",
        "outputId": "5672b43a-74da-46ea-defc-6174a9423426"
      },
      "execution_count": null,
      "outputs": [
        {
          "name": "stdout",
          "text": "_________________________________________________________________\nLayer (type)                 Output Shape              Param #   \n=================================================================\ninputs (InputLayer)          (None, 150)               0         \n_________________________________________________________________\nembedding_1 (Embedding)      (None, 150, 50)           50000     \n_________________________________________________________________\nlstm_1 (LSTM)                (None, 64)                29440     \n_________________________________________________________________\nFC1 (Dense)                  (None, 256)               16640     \n_________________________________________________________________\nactivation_1 (Activation)    (None, 256)               0         \n_________________________________________________________________\ndropout_1 (Dropout)          (None, 256)               0         \n_________________________________________________________________\nout_layer (Dense)            (None, 1)                 257       \n_________________________________________________________________\nactivation_2 (Activation)    (None, 1)                 0         \n=================================================================\nTotal params: 96,337\nTrainable params: 96,337\nNon-trainable params: 0\n_________________________________________________________________\n",
          "output_type": "stream"
        }
      ]
    },
    {
      "cell_type": "markdown",
      "source": [
        "Fit on the training data."
      ],
      "metadata": {
        "_uuid": "bc2e0a3ec50d14c790b82d66f9255456ec6a69da",
        "id": "XsDEdFcs8GF9"
      }
    },
    {
      "cell_type": "code",
      "source": [
        "model.fit(sequences_matrix,Y_train,batch_size=128,epochs=10,\n",
        "          validation_split=0.2,callbacks=[EarlyStopping(monitor='val_loss',min_delta=0.0001)])"
      ],
      "metadata": {
        "_uuid": "98f6d6318352420ea49c532cda158f715f940f4b",
        "execution": {
          "iopub.status.busy": "2022-11-02T10:41:12.094685Z",
          "iopub.execute_input": "2022-11-02T10:41:12.094986Z",
          "iopub.status.idle": "2022-11-02T10:41:45.966669Z",
          "shell.execute_reply.started": "2022-11-02T10:41:12.094935Z",
          "shell.execute_reply": "2022-11-02T10:41:45.965731Z"
        },
        "trusted": true,
        "id": "pYyOeG-88GF9",
        "outputId": "71981c02-9a32-4f50-8228-442fe9a67838"
      },
      "execution_count": null,
      "outputs": [
        {
          "name": "stdout",
          "text": "Train on 3788 samples, validate on 948 samples\nEpoch 1/10\n3788/3788 [==============================] - 11s 3ms/step - loss: 0.3291 - acc: 0.8728 - val_loss: 0.1436 - val_acc: 0.9652\nEpoch 2/10\n3788/3788 [==============================] - 11s 3ms/step - loss: 0.0814 - acc: 0.9805 - val_loss: 0.0557 - val_acc: 0.9852\nEpoch 3/10\n3788/3788 [==============================] - 11s 3ms/step - loss: 0.0461 - acc: 0.9873 - val_loss: 0.0620 - val_acc: 0.9831\n",
          "output_type": "stream"
        },
        {
          "execution_count": 10,
          "output_type": "execute_result",
          "data": {
            "text/plain": "<keras.callbacks.History at 0x7fbf4a7bba20>"
          },
          "metadata": {}
        }
      ]
    },
    {
      "cell_type": "markdown",
      "source": [
        "The model performs well on the validation set and this configuration is chosen as the final model."
      ],
      "metadata": {
        "_uuid": "448ab38c2f804e47df48eb45385393aaec168032",
        "id": "9X4vF3jX8GF9"
      }
    },
    {
      "cell_type": "markdown",
      "source": [
        "Process the test set data."
      ],
      "metadata": {
        "_uuid": "ccca7839445a7d663ee7bc425a16e247df3e0e5b",
        "id": "9VTZfBIx8GF-"
      }
    },
    {
      "cell_type": "code",
      "source": [
        "test_sequences = tok.texts_to_sequences(X_test)\n",
        "test_sequences_matrix = sequence.pad_sequences(test_sequences,maxlen=max_len)"
      ],
      "metadata": {
        "_uuid": "80036135a11387d952becaf2fecf653a65c02328",
        "execution": {
          "iopub.status.busy": "2022-11-02T10:41:45.968041Z",
          "iopub.execute_input": "2022-11-02T10:41:45.968373Z",
          "iopub.status.idle": "2022-11-02T10:41:45.996768Z",
          "shell.execute_reply.started": "2022-11-02T10:41:45.968310Z",
          "shell.execute_reply": "2022-11-02T10:41:45.995884Z"
        },
        "trusted": true,
        "id": "gl5DVBdL8GF-"
      },
      "execution_count": null,
      "outputs": []
    },
    {
      "cell_type": "markdown",
      "source": [
        "Evaluate the model on the test set."
      ],
      "metadata": {
        "_uuid": "0b60d7d2bcc0aabf77c8c8766c59f8d73cd34547",
        "id": "WgnfAlL_8GF-"
      }
    },
    {
      "cell_type": "code",
      "source": [
        "accr = model.evaluate(test_sequences_matrix,Y_test)"
      ],
      "metadata": {
        "_uuid": "0db183049b59d96388812a98efedfc865b7cc141",
        "execution": {
          "iopub.status.busy": "2022-11-02T10:41:45.998273Z",
          "iopub.execute_input": "2022-11-02T10:41:45.998567Z",
          "iopub.status.idle": "2022-11-02T10:41:46.958449Z",
          "shell.execute_reply.started": "2022-11-02T10:41:45.998504Z",
          "shell.execute_reply": "2022-11-02T10:41:46.957717Z"
        },
        "trusted": true,
        "id": "uqMKcBVl8GF-",
        "outputId": "0063c10e-f63d-462c-89bc-864dcfccd4d1"
      },
      "execution_count": null,
      "outputs": [
        {
          "name": "stdout",
          "text": "836/836 [==============================] - 1s 1ms/step\n",
          "output_type": "stream"
        }
      ]
    },
    {
      "cell_type": "code",
      "source": [
        "print('Test set\\n  Loss: {:0.3f}\\n  Accuracy: {:0.3f}'.format(accr[0],accr[1]))"
      ],
      "metadata": {
        "scrolled": true,
        "_uuid": "3e121ab83f4a0b9f7376ab24aa25d67051171f89",
        "execution": {
          "iopub.status.busy": "2022-11-02T10:41:46.960114Z",
          "iopub.execute_input": "2022-11-02T10:41:46.960473Z",
          "iopub.status.idle": "2022-11-02T10:41:46.966340Z",
          "shell.execute_reply.started": "2022-11-02T10:41:46.960414Z",
          "shell.execute_reply": "2022-11-02T10:41:46.965385Z"
        },
        "trusted": true,
        "id": "BT4U5kJf8GF-",
        "outputId": "b88d4530-9325-46f9-f29d-c0535cd78694"
      },
      "execution_count": null,
      "outputs": [
        {
          "name": "stdout",
          "text": "Test set\n  Loss: 0.043\n  Accuracy: 0.983\n",
          "output_type": "stream"
        }
      ]
    }
  ]
}